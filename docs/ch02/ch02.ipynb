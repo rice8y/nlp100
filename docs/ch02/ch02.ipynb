{
 "cells": [
  {
   "cell_type": "markdown",
   "metadata": {
    "tags": [
     "scroll-output"
    ]
   },
   "source": [
    "# 第2章: UNIXコマンド"
   ]
  },
  {
   "cell_type": "markdown",
   "metadata": {},
   "source": [
    "```{note}\n",
    "表示の都合上, 出力行数を制限しています.\n",
    "```"
   ]
  },
  {
   "cell_type": "markdown",
   "metadata": {},
   "source": [
    "## 10. 行数のカウント\n",
    "行数をカウントせよ. 確認にはwcコマンドを用いよ."
   ]
  },
  {
   "cell_type": "code",
   "execution_count": 4,
   "metadata": {},
   "outputs": [
    {
     "name": "stdout",
     "output_type": "stream",
     "text": [
      "2780 popular-names.txt\n"
     ]
    }
   ],
   "source": [
    "!wc -l popular-names.txt"
   ]
  },
  {
   "cell_type": "markdown",
   "metadata": {},
   "source": [
    "## 11. タブをスペースに置換\n",
    "タブ1文字につきスペース1文字に置換せよ. 確認にはsedコマンド, trコマンド, もしくはexpandコマンドを用いよ. "
   ]
  },
  {
   "cell_type": "code",
   "execution_count": 2,
   "metadata": {},
   "outputs": [
    {
     "name": "stdout",
     "output_type": "stream",
     "text": [
      "Mary F 7065 1880\n",
      "Anna F 2604 1880\n",
      "Emma F 2003 1880\n",
      "Elizabeth F 1939 1880\n",
      "Minnie F 1746 1880\n",
      "Margaret F 1578 1880\n",
      "Ida F 1472 1880\n",
      "Alice F 1414 1880\n",
      "Bertha F 1320 1880\n",
      "Sarah F 1288 1880\n"
     ]
    }
   ],
   "source": [
    "!sed 's/\\t/ /g' popular-names.txt 2>/dev/null | head -n 10"
   ]
  },
  {
   "cell_type": "code",
   "execution_count": 3,
   "metadata": {},
   "outputs": [
    {
     "name": "stdout",
     "output_type": "stream",
     "text": [
      "Mary F 7065 1880\n",
      "Anna F 2604 1880\n",
      "Emma F 2003 1880\n",
      "Elizabeth F 1939 1880\n",
      "Minnie F 1746 1880\n",
      "Margaret F 1578 1880\n",
      "Ida F 1472 1880\n",
      "Alice F 1414 1880\n",
      "Bertha F 1320 1880\n",
      "Sarah F 1288 1880\n"
     ]
    }
   ],
   "source": [
    "!tr '\\t' ' ' < popular-names.txt 2>/dev/null | head -n 10"
   ]
  },
  {
   "cell_type": "code",
   "execution_count": 4,
   "metadata": {},
   "outputs": [
    {
     "name": "stdout",
     "output_type": "stream",
     "text": [
      "Mary F 7065 1880\n",
      "Anna F 2604 1880\n",
      "Emma F 2003 1880\n",
      "Elizabeth F 1939 1880\n",
      "Minnie F 1746 1880\n",
      "Margaret F 1578 1880\n",
      "Ida F 1472 1880\n",
      "Alice F 1414 1880\n",
      "Bertha F 1320 1880\n",
      "Sarah F 1288 1880\n"
     ]
    }
   ],
   "source": [
    "!expand -t 1 popular-names.txt 2>/dev/null | head -n 10"
   ]
  },
  {
   "cell_type": "markdown",
   "metadata": {},
   "source": [
    "## 12. 1列目をcol1.txtに，2列目をcol2.txtに保存\n",
    "各行の1列目だけを抜き出したものをcol1.txtに, 2列目だけを抜き出したものをcol2.txtとしてファイルに保存せよ. 確認にはcutコマンドを用いよ."
   ]
  },
  {
   "cell_type": "code",
   "execution_count": 17,
   "metadata": {},
   "outputs": [],
   "source": [
    "!cut -f 1 popular-names.txt > col1.txt && cut -f 2 popular-names.txt > col2.txt"
   ]
  },
  {
   "cell_type": "code",
   "execution_count": 5,
   "metadata": {},
   "outputs": [
    {
     "name": "stdout",
     "output_type": "stream",
     "text": [
      "[Check]\n",
      "col1.txt col2.txt\n",
      "\n",
      "Mary F\n",
      "Anna F\n",
      "Emma F\n",
      "Elizabeth F\n",
      "Minnie F\n",
      "Margaret F\n",
      "Ida F\n"
     ]
    }
   ],
   "source": [
    "!awk 'BEGIN {print \"[Check]\\ncol1.txt col2.txt\\n\"} {getline second < \"col2.txt\"; print $0, second}' col1.txt 2>/dev/null | head -n 10"
   ]
  },
  {
   "cell_type": "markdown",
   "metadata": {},
   "source": [
    "## 13. col1.txtとcol2.txtをマージ\n",
    "12で作ったcol1.txtとcol2.txtを結合し, 元のファイルの1列目と2列目をタブ区切りで並べたテキストファイルを作成せよ, 確認にはpasteコマンドを用いよ."
   ]
  },
  {
   "cell_type": "code",
   "execution_count": 19,
   "metadata": {},
   "outputs": [],
   "source": [
    "!paste col1.txt col2.txt > col1-2.txt"
   ]
  },
  {
   "cell_type": "code",
   "execution_count": 6,
   "metadata": {},
   "outputs": [
    {
     "name": "stdout",
     "output_type": "stream",
     "text": [
      "[Check]\n",
      "col1-2.txt\n",
      "\n",
      "Mary\tF\n",
      "Anna\tF\n",
      "Emma\tF\n",
      "Elizabeth\tF\n",
      "Minnie\tF\n",
      "Margaret\tF\n",
      "Ida\tF\n"
     ]
    }
   ],
   "source": [
    "!awk 'BEGIN {print \"[Check]\\ncol1-2.txt\\n\"} {print $0}' col1-2.txt 2>/dev/null | head -n 10"
   ]
  },
  {
   "cell_type": "markdown",
   "metadata": {},
   "source": [
    "## 14. 先頭からN行を出力\n",
    "自然数Nをコマンドライン引数などの手段で受け取り, 入力のうち先頭のN行だけを表示せよ. 確認にはheadコマンドを用いよ."
   ]
  },
  {
   "cell_type": "markdown",
   "metadata": {},
   "source": [
    "`nhlines.sh`:\n",
    "\n",
    "```bash\n",
    "#!/bin/bash\n",
    "\n",
    "if [ \"$#\" -ne 2 ]; then\n",
    "    echo \"Usage: $0 <number_of_lines> <file>\"\n",
    "    exit 1\n",
    "fi\n",
    "\n",
    "N=$1\n",
    "file=$2\n",
    "\n",
    "head -n \"$N\" \"$file\"\n",
    "```"
   ]
  },
  {
   "cell_type": "code",
   "execution_count": 9,
   "metadata": {},
   "outputs": [
    {
     "name": "stdout",
     "output_type": "stream",
     "text": [
      "Mary\tF\t7065\t1880\n",
      "Anna\tF\t2604\t1880\n",
      "Emma\tF\t2003\t1880\n",
      "Elizabeth\tF\t1939\t1880\n"
     ]
    }
   ],
   "source": [
    "!chmod +x nhlines.sh\n",
    "!./nhlines.sh 4 popular-names.txt"
   ]
  },
  {
   "cell_type": "markdown",
   "metadata": {},
   "source": [
    "## 15. 末尾のN行を出力\n",
    "自然数Nをコマンドライン引数などの手段で受け取り, 入力のうち末尾のN行だけを表示せよ. 確認にはtailコマンドを用いよ."
   ]
  },
  {
   "cell_type": "markdown",
   "metadata": {},
   "source": [
    "`ntlines.sh`:\n",
    "\n",
    "```bash\n",
    "#!/bin/bash\n",
    "\n",
    "if [ \"$#\" -ne 2 ]; then\n",
    "    echo \"Usage: $0 <number_of_lines> <file>\"\n",
    "    exit 1\n",
    "fi\n",
    "\n",
    "N=$1\n",
    "file=$2\n",
    "\n",
    "tail -n \"$N\" \"$file\"\n",
    "```"
   ]
  },
  {
   "cell_type": "code",
   "execution_count": null,
   "metadata": {},
   "outputs": [
    {
     "name": "stdout",
     "output_type": "stream",
     "text": [
      "Elijah\tM\t12886\t2018\n",
      "Lucas\tM\t12585\t2018\n",
      "Mason\tM\t12435\t2018\n",
      "Logan\tM\t12352\t2018\n"
     ]
    }
   ],
   "source": [
    "!chmod +x ntlines.sh\n",
    "!./ntlines.sh 4 popular-names.txt"
   ]
  },
  {
   "cell_type": "markdown",
   "metadata": {},
   "source": [
    "## 16. ファイルをN分割する\n",
    "自然数Nをコマンドライン引数などの手段で受け取り, 入力のファイルを行単位でN分割せよ. 同様の処理をsplitコマンドで実現せよ."
   ]
  },
  {
   "cell_type": "markdown",
   "metadata": {},
   "source": [
    "`nsplit.sh`:\n",
    "\n",
    "```bash\n",
    "#!/bin/bash\n",
    "\n",
    "if [ \"$#\" -ne 3 ]; then\n",
    "    echo \"Usage: $0 <number_of_lines> <input_file> <output_file_prefix>\"\n",
    "    exit 1\n",
    "fi\n",
    "\n",
    "N=$1\n",
    "input_file=$2\n",
    "output_file_prefix=$3\n",
    "\n",
    "split -l \"$N\" \"$input_file\" -d \"$output_file_prefix\"\n",
    "```"
   ]
  },
  {
   "cell_type": "code",
   "execution_count": null,
   "metadata": {},
   "outputs": [],
   "source": [
    "!chmod +x nsplit.sh\n",
    "!./nsplit.sh 500 popular-names.txt popular-names-500ld-"
   ]
  },
  {
   "cell_type": "code",
   "execution_count": 13,
   "metadata": {},
   "outputs": [
    {
     "name": "stdout",
     "output_type": "stream",
     "text": [
      "[Check]\n",
      "ls popular-names-500ld-*\n",
      "\n",
      "popular-names-500ld-00\tpopular-names-500ld-02\tpopular-names-500ld-04\n",
      "popular-names-500ld-01\tpopular-names-500ld-03\tpopular-names-500ld-05\n"
     ]
    }
   ],
   "source": [
    "!echo -e '[Check]\\nls popular-names-500ld-*\\n' && ls popular-names-500ld-*"
   ]
  },
  {
   "cell_type": "markdown",
   "metadata": {},
   "source": [
    "## 17. １列目の文字列の異なり\n",
    "1列目の文字列の種類 (異なる文字列の集合) を求めよ. 確認にはcut, sort, uniqコマンドを用いよ."
   ]
  },
  {
   "cell_type": "code",
   "execution_count": 10,
   "metadata": {},
   "outputs": [
    {
     "name": "stdout",
     "output_type": "stream",
     "text": [
      "Abigail\n",
      "Aiden\n",
      "Alexander\n",
      "Alexis\n",
      "Alice\n",
      "Amanda\n",
      "Amelia\n",
      "Amy\n",
      "Andrew\n",
      "Angela\n"
     ]
    }
   ],
   "source": [
    "!cut -f 1 popular-names.txt | sort | uniq 2>/dev/null | head -n 10"
   ]
  },
  {
   "cell_type": "markdown",
   "metadata": {},
   "source": [
    "## 18. 各行を3コラム目の数値の降順にソート\n",
    "各行を3コラム目の数値の逆順で整列せよ (注意: 各行の内容は変更せずに並び替えよ).確認にはsortコマンドを用いよ (この問題はコマンドで実行した時の結果と合わなくてもよい)."
   ]
  },
  {
   "cell_type": "code",
   "execution_count": 7,
   "metadata": {},
   "outputs": [
    {
     "name": "stdout",
     "output_type": "stream",
     "text": [
      "Linda\tF\t99689\t1947\n",
      "Linda\tF\t96211\t1948\n",
      "James\tM\t94757\t1947\n",
      "Michael\tM\t92704\t1957\n",
      "Robert\tM\t91640\t1947\n",
      "Linda\tF\t91016\t1949\n",
      "Michael\tM\t90656\t1956\n",
      "Michael\tM\t90517\t1958\n",
      "James\tM\t88584\t1948\n",
      "Michael\tM\t88528\t1954\n"
     ]
    }
   ],
   "source": [
    "!sort -k 3,3 -nr popular-names.txt 2>/dev/null | head -n 10"
   ]
  },
  {
   "cell_type": "markdown",
   "metadata": {},
   "source": [
    "## 19. 各行の1コラム目の文字列の出現頻度を求め，出現頻度の高い順に並べる\n",
    "各行の1列目の文字列の出現頻度を求め, その高い順に並べて表示せよ. 確認にはcut, uniq, sortコマンドを用いよ."
   ]
  },
  {
   "cell_type": "code",
   "execution_count": 8,
   "metadata": {},
   "outputs": [
    {
     "name": "stdout",
     "output_type": "stream",
     "text": [
      "    118 James\n",
      "    111 William\n",
      "    108 Robert\n",
      "    108 John\n",
      "     92 Mary\n",
      "     75 Charles\n",
      "     74 Michael\n",
      "     73 Elizabeth\n",
      "     70 Joseph\n",
      "     60 Margaret\n"
     ]
    }
   ],
   "source": [
    "!cut -f 1 popular-names.txt | sort | uniq -c | sort -r 2>/dev/null | head -n 10"
   ]
  },
  {
   "cell_type": "markdown",
   "metadata": {},
   "source": [
    "```{tip}\n",
    "- [wc](https://man7.org/linux/man-pages/man1/wc.1.html)\n",
    "- [sed](https://man7.org/linux/man-pages/man1/sed.1.html)\n",
    "- [tr](https://man7.org/linux/man-pages/man1/tr.1.html)\n",
    "- [expand](https://man7.org/linux/man-pages/man1/expand.1.html)\n",
    "- [cut](https://www.man7.org/linux/man-pages/man1/cut.1.html)\n",
    "- [paste](https://man7.org/linux/man-pages/man1/paste.1.html)\n",
    "- [head](https://man7.org/linux/man-pages/man1/head.1.html)\n",
    "- [tail](https://man7.org/linux/man-pages/man1/tail.1.html)\n",
    "- [split](https://man7.org/linux/man-pages/man1/split.1.html)\n",
    "- [sort](https://www.man7.org/linux/man-pages/man1/sort.1.html)\n",
    "- [uniq](https://man7.org/linux/man-pages/man1/uniq.1.html)\n",
    "```"
   ]
  }
 ],
 "metadata": {
  "kernelspec": {
   "display_name": "nlp100-env",
   "language": "python",
   "name": "python3"
  },
  "language_info": {
   "codemirror_mode": {
    "name": "ipython",
    "version": 3
   },
   "file_extension": ".py",
   "mimetype": "text/x-python",
   "name": "python",
   "nbconvert_exporter": "python",
   "pygments_lexer": "ipython3",
   "version": "3.10.12"
  }
 },
 "nbformat": 4,
 "nbformat_minor": 4
}
