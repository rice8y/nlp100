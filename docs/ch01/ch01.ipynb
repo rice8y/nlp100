{
 "cells": [
  {
   "cell_type": "markdown",
   "metadata": {},
   "source": [
    "# 第1章: 準備運動"
   ]
  },
  {
   "cell_type": "markdown",
   "metadata": {},
   "source": [
    "## 00. 文字列の逆順\n",
    "文字列\"stressed\"の文字を逆に (末尾から先頭に向かって) 並べた文字列を得よ."
   ]
  },
  {
   "cell_type": "code",
   "execution_count": 1,
   "metadata": {},
   "outputs": [
    {
     "name": "stdout",
     "output_type": "stream",
     "text": [
      "desserts\n"
     ]
    }
   ],
   "source": [
    "text = \"stressed\"\n",
    "rev_text = text[::-1]\n",
    "print(rev_text)"
   ]
  },
  {
   "cell_type": "markdown",
   "metadata": {},
   "source": [
    "## 01. 「パタトクカシーー」\n",
    "「パタトクカシーー」という文字列の1, 3, 5, 7文字目を取り出して連結した文字列を得よ."
   ]
  },
  {
   "cell_type": "code",
   "execution_count": 14,
   "metadata": {},
   "outputs": [
    {
     "name": "stdout",
     "output_type": "stream",
     "text": [
      "パトカー\n"
     ]
    }
   ],
   "source": [
    "text = \"パタトクカシーー\"\n",
    "sel_text = \"\".join([text[i] for i in range(0, len(text), 2)])\n",
    "print(sel_text)"
   ]
  },
  {
   "cell_type": "markdown",
   "metadata": {},
   "source": [
    "## 02. 「パトカー」+「タクシー」＝「パタトクカシーー」\n",
    "「パトカー」+「タクシー」の文字を先頭から交互に連結して文字列「パタトクカシーー」を得よ. "
   ]
  },
  {
   "cell_type": "code",
   "execution_count": 15,
   "metadata": {},
   "outputs": [
    {
     "name": "stdout",
     "output_type": "stream",
     "text": [
      "パタトクカシーー\n"
     ]
    }
   ],
   "source": [
    "text1 = \"パトカー\"\n",
    "text2 = \"タクシー\"\n",
    "con_text = []\n",
    "con_text = \"\".join([(text1[i] + text2[i]) for i in range(0, len(text1))])\n",
    "print(con_text)"
   ]
  },
  {
   "cell_type": "markdown",
   "metadata": {},
   "source": [
    "## 03. 円周率\n",
    "\"Now I need a drink, alcoholic of course, after the heavy lectures involving quantum mechanics.\"という文を単語に分解し, 各単語の (アルファベットの) 文字数を先頭から出現順に並べたリストを作成せよ. "
   ]
  },
  {
   "cell_type": "code",
   "execution_count": 18,
   "metadata": {},
   "outputs": [
    {
     "name": "stdout",
     "output_type": "stream",
     "text": [
      "[3, 1, 4, 1, 5, 9, 2, 6, 5, 3, 5, 8, 9, 7, 9]\n"
     ]
    }
   ],
   "source": [
    "text = \"Now I need a drink, alcoholic of course, after the heavy lectures involving quantum mechanics.\"\n",
    "words = text.replace(\",\", \"\").replace(\".\", \"\").split()\n",
    "word_lengths = [len(word) for word in words]\n",
    "print(word_lengths)"
   ]
  },
  {
   "cell_type": "markdown",
   "metadata": {},
   "source": [
    "## 04. 元素記号\n",
    "\"Hi He Lied Because Boron Could Not Oxidize Fluorine. New Nations Might Also Sign Peace Security Clause. Arthur King Can.\"という文を単語に分解し, 1, 5, 6, 7, 8, 9, 15, 16, 19番目の単語は先頭の1文字, それ以外の単語は先頭の2文字を取り出し, 取り出した文字列から単語の位置 (先頭から何番目の単語か) への連想配列 (辞書型もしくはマップ型) を作成せよ. "
   ]
  },
  {
   "cell_type": "code",
   "execution_count": 19,
   "metadata": {},
   "outputs": [
    {
     "name": "stdout",
     "output_type": "stream",
     "text": [
      "{1: 'H', 2: 'He', 3: 'Li', 4: 'Be', 5: 'B', 6: 'C', 7: 'N', 8: 'O', 9: 'F', 10: 'Ne', 11: 'Na', 12: 'Mi', 13: 'Al', 14: 'Si', 15: 'P', 16: 'S', 17: 'Cl', 18: 'Ar', 19: 'K', 20: 'Ca'}\n"
     ]
    }
   ],
   "source": [
    "text = \"Hi He Lied Because Boron Could Not Oxidize Fluorine. New Nations Might Also Sign Peace Security Clause. Arthur King Can.\"\n",
    "words = text.replace(\".\", \"\").split()\n",
    "tgt_pos = {1, 5, 6, 7, 8, 9, 15, 16, 19}\n",
    "elem_sym = {i + 1: (word[0] if i + 1 in tgt_pos else word[:2]) for i, word in enumerate(words)}\n",
    "print(elem_sym)"
   ]
  },
  {
   "cell_type": "markdown",
   "metadata": {},
   "source": [
    "## 05. n-gram\n",
    "与えられたシーケンス (文字列やリストなど) からn-gramを作る関数を作成せよ. この関数を用い, \"I am an NLPer\"という文から単語bi-gram, 文字bi-gramを得よ. "
   ]
  },
  {
   "cell_type": "code",
   "execution_count": null,
   "metadata": {},
   "outputs": [
    {
     "name": "stdout",
     "output_type": "stream",
     "text": [
      "['I ', ' a', 'am', 'm ', ' a', 'an', 'n ', ' N', 'NL', 'LP', 'Pe', 'er']\n",
      "[['I', 'am'], ['am', 'an'], ['an', 'NLPer']]\n"
     ]
    }
   ],
   "source": [
    "def n_gram(tgt, n):\n",
    "    return [tgt[i:i+n] for i in range(len(tgt) - n + 1)]\n",
    "\n",
    "text = \"I am an NLPer\"\n",
    "words = text.split(\" \")\n",
    "print(n_gram(text, 2))\n",
    "print(n_gram(words, 2))"
   ]
  },
  {
   "cell_type": "markdown",
   "metadata": {},
   "source": [
    "## 06. 集合\n",
    "\"paraparaparadise\"と\"paragraph\"に含まれる文字bi-gramの集合を, それぞれ, XとYとして求め, XとYの和集合, 積集合, 差集合を求めよ. さらに, 'se'というbi-gramがXおよびYに含まれるかどうかを調べよ. "
   ]
  },
  {
   "cell_type": "code",
   "execution_count": 8,
   "metadata": {},
   "outputs": [
    {
     "name": "stdout",
     "output_type": "stream",
     "text": [
      "Union: {'ar', 'ra', 'pa', 'se', 'ad', 'ph', 'gr', 'di', 'ag', 'ap', 'is'}\n",
      "Intersection Set: {'ap', 'ar', 'ra', 'pa'}\n",
      "Difference Set: {'se', 'ad', 'di', 'is'}\n",
      "se exists in X.\n"
     ]
    }
   ],
   "source": [
    "textA = \"paraparaparadise\"\n",
    "textB = \"paragraph\"\n",
    "textA = n_gram(textA, 2)\n",
    "textB = n_gram(textB, 2)\n",
    "\n",
    "X = set(textA)\n",
    "Y = set(textB)\n",
    "\n",
    "print(f\"Union: {X | Y}\")\n",
    "print(f\"Intersection Set: {X & Y}\")\n",
    "print(f\"Difference Set: {X - Y}\")\n",
    "\n",
    "tgt = \"se\"\n",
    "if tgt in X and tgt in Y:\n",
    "    print(f\"{tgt} exists in X and Y.\")\n",
    "elif tgt in X:\n",
    "    print(f\"{tgt} exists in X.\")\n",
    "elif tgt in Y:\n",
    "    print(f\"{tgt} exists in Y.\")\n",
    "else:\n",
    "    print(f\"{tgt} does not exists.\")"
   ]
  },
  {
   "cell_type": "markdown",
   "metadata": {},
   "source": [
    "## 07. テンプレートによる文生成\n",
    "引数x, y, zを受け取り「x時のyはz」という文字列を返す関数を実装せよ. さらに, x=12, y=\"気温\", z=22.4として, 実行結果を確認せよ. "
   ]
  },
  {
   "cell_type": "code",
   "execution_count": 9,
   "metadata": {},
   "outputs": [
    {
     "name": "stdout",
     "output_type": "stream",
     "text": [
      "12時の気温は22.4\n"
     ]
    }
   ],
   "source": [
    "def print_temp(x, y, z):\n",
    "    print(f\"{x}時の{y}は{z}\")\n",
    "    \n",
    "print_temp(12, \"気温\", 22.4)"
   ]
  },
  {
   "cell_type": "markdown",
   "metadata": {},
   "source": [
    "## 08. 暗号文\n",
    "与えられた文字列の各文字を, 以下の仕様で変換する関数cipherを実装せよ. \n",
    "\n",
    "- 英小文字ならば(219 - 文字コード)の文字に置換\n",
    "- その他の文字はそのまま出力\n",
    "\n",
    "この関数を用い, 英語のメッセージを暗号化・復号化せよ. "
   ]
  },
  {
   "cell_type": "code",
   "execution_count": null,
   "metadata": {},
   "outputs": [
    {
     "name": "stdout",
     "output_type": "stream",
     "text": [
      "Hvool, Wliow!\n"
     ]
    }
   ],
   "source": [
    "def cipher(text):\n",
    "    res = []\n",
    "    for char in text:\n",
    "        if 'a' <= char <= 'z':\n",
    "            new_char = chr(219 - ord(char))\n",
    "            res.append(new_char)\n",
    "        else:\n",
    "            res.append(char)\n",
    "    return ''.join(res)\n",
    "\n",
    "text = \"Hello, World!\"\n",
    "res = cipher(text)\n",
    "print(res)"
   ]
  },
  {
   "cell_type": "markdown",
   "metadata": {},
   "source": [
    "## 09. Typoglycemia\n",
    "スペースで区切られた単語列に対して, 各単語の先頭と末尾の文字は残し, それ以外の文字の順序をランダムに並び替えるプログラムを作成せよ. ただし, 長さが4以下の単語は並び替えないこととする. 適当な英語の文 (例えば\"I couldn't believe that I could actually understand what I was reading : the phenomenal power of the human mind .\") を与え, その実行結果を確認せよ. "
   ]
  },
  {
   "cell_type": "code",
   "execution_count": null,
   "metadata": {},
   "outputs": [
    {
     "name": "stdout",
     "output_type": "stream",
     "text": [
      "I c'noludt beviele that I cuold alctlauy udstnnraed what I was riadneg : the pemheanonl poewr of the haumn mind .\n"
     ]
    }
   ],
   "source": [
    "import random\n",
    "\n",
    "def typoglycemia(text):\n",
    "    words = text.split()\n",
    "    for i in range(len(words)):\n",
    "        if len(words[i]) <= 4:\n",
    "            continue\n",
    "        else:\n",
    "            word = words[i]\n",
    "            middle = word[1:-1]\n",
    "            shuffled_middle = ''.join(random.sample(middle, len(middle)))\n",
    "            words[i] = word[0] + shuffled_middle + word[-1]\n",
    "\n",
    "    return ' '.join(words)\n",
    "\n",
    "text = \"I couldn't believe that I could actually understand what I was reading : the phenomenal power of the human mind .\"\n",
    "res = typoglycemia(text)\n",
    "print(res)"
   ]
  }
 ],
 "metadata": {
  "kernelspec": {
   "display_name": "Python 3",
   "language": "python",
   "name": "python3"
  },
  "language_info": {
   "codemirror_mode": {
    "name": "ipython",
    "version": 3
   },
   "file_extension": ".py",
   "mimetype": "text/x-python",
   "name": "python",
   "nbconvert_exporter": "python",
   "pygments_lexer": "ipython3",
   "version": "3.10.12"
  }
 },
 "nbformat": 4,
 "nbformat_minor": 2
}
