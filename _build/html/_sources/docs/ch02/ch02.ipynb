{
 "cells": [
  {
   "cell_type": "markdown",
   "metadata": {
    "tags": [
     "scroll-output"
    ]
   },
   "source": [
    "# 第2章: UNIXコマンド"
   ]
  },
  {
   "cell_type": "markdown",
   "metadata": {},
   "source": [
    "```{note}\n",
    "表示の都合上, 出力行数を制限しています.\n",
    "```"
   ]
  },
  {
   "cell_type": "markdown",
   "metadata": {},
   "source": [
    "## 10. 行数のカウント\n",
    "行数をカウントせよ. 確認にはwcコマンドを用いよ."
   ]
  },
  {
   "cell_type": "markdown",
   "metadata": {},
   "source": [
    "**Python:**"
   ]
  },
  {
   "cell_type": "code",
   "execution_count": 11,
   "metadata": {},
   "outputs": [
    {
     "name": "stdout",
     "output_type": "stream",
     "text": [
      "2780\n"
     ]
    }
   ],
   "source": [
    "with open(\"popular-names.txt\", \"r\") as f:\n",
    "    lines = f.readlines()\n",
    "    cnt = len(lines)\n",
    "    print(cnt)"
   ]
  },
  {
   "cell_type": "markdown",
   "metadata": {},
   "source": [
    "**UNIX:**"
   ]
  },
  {
   "cell_type": "code",
   "execution_count": 4,
   "metadata": {},
   "outputs": [
    {
     "name": "stdout",
     "output_type": "stream",
     "text": [
      "2780 popular-names.txt\n"
     ]
    }
   ],
   "source": [
    "!wc -l popular-names.txt"
   ]
  },
  {
   "cell_type": "markdown",
   "metadata": {},
   "source": [
    "## 11. タブをスペースに置換\n",
    "タブ1文字につきスペース1文字に置換せよ. 確認にはsedコマンド, trコマンド, もしくはexpandコマンドを用いよ. "
   ]
  },
  {
   "cell_type": "markdown",
   "metadata": {},
   "source": [
    "**Python:**"
   ]
  },
  {
   "cell_type": "code",
   "execution_count": null,
   "metadata": {},
   "outputs": [
    {
     "name": "stdout",
     "output_type": "stream",
     "text": [
      "Mary F 7065 1880\n",
      "Anna F 2604 1880\n",
      "Emma F 2003 1880\n",
      "Elizabeth F 1939 1880\n",
      "Minnie F 1746 1880\n",
      "Margaret F 1578 1880\n",
      "Ida F 1472 1880\n",
      "Alice F 1414 1880\n",
      "Bertha F 1320 1880\n",
      "Sarah F 1288 1880\n"
     ]
    }
   ],
   "source": [
    "with open(\"popular-names.txt\", \"r\") as f:\n",
    "    lines = (line.replace('\\t', ' ') for line in f)\n",
    "    for i, line in enumerate(lines):\n",
    "        if i < 10:\n",
    "            print(line, end='') "
   ]
  },
  {
   "cell_type": "markdown",
   "metadata": {},
   "source": [
    "**UNIX:**"
   ]
  },
  {
   "cell_type": "markdown",
   "metadata": {},
   "source": [
    "`sed` ver."
   ]
  },
  {
   "cell_type": "code",
   "execution_count": 2,
   "metadata": {},
   "outputs": [
    {
     "name": "stdout",
     "output_type": "stream",
     "text": [
      "Mary F 7065 1880\n",
      "Anna F 2604 1880\n",
      "Emma F 2003 1880\n",
      "Elizabeth F 1939 1880\n",
      "Minnie F 1746 1880\n",
      "Margaret F 1578 1880\n",
      "Ida F 1472 1880\n",
      "Alice F 1414 1880\n",
      "Bertha F 1320 1880\n",
      "Sarah F 1288 1880\n"
     ]
    }
   ],
   "source": [
    "!sed 's/\\t/ /g' popular-names.txt 2>/dev/null | head -n 10"
   ]
  },
  {
   "cell_type": "markdown",
   "metadata": {},
   "source": [
    "**UNIX:**"
   ]
  },
  {
   "cell_type": "markdown",
   "metadata": {},
   "source": [
    "`tr` ver."
   ]
  },
  {
   "cell_type": "code",
   "execution_count": 3,
   "metadata": {},
   "outputs": [
    {
     "name": "stdout",
     "output_type": "stream",
     "text": [
      "Mary F 7065 1880\n",
      "Anna F 2604 1880\n",
      "Emma F 2003 1880\n",
      "Elizabeth F 1939 1880\n",
      "Minnie F 1746 1880\n",
      "Margaret F 1578 1880\n",
      "Ida F 1472 1880\n",
      "Alice F 1414 1880\n",
      "Bertha F 1320 1880\n",
      "Sarah F 1288 1880\n"
     ]
    }
   ],
   "source": [
    "!tr '\\t' ' ' < popular-names.txt 2>/dev/null | head -n 10"
   ]
  },
  {
   "cell_type": "markdown",
   "metadata": {},
   "source": [
    "`expand` ver."
   ]
  },
  {
   "cell_type": "code",
   "execution_count": 4,
   "metadata": {},
   "outputs": [
    {
     "name": "stdout",
     "output_type": "stream",
     "text": [
      "Mary F 7065 1880\n",
      "Anna F 2604 1880\n",
      "Emma F 2003 1880\n",
      "Elizabeth F 1939 1880\n",
      "Minnie F 1746 1880\n",
      "Margaret F 1578 1880\n",
      "Ida F 1472 1880\n",
      "Alice F 1414 1880\n",
      "Bertha F 1320 1880\n",
      "Sarah F 1288 1880\n"
     ]
    }
   ],
   "source": [
    "!expand -t 1 popular-names.txt 2>/dev/null | head -n 10"
   ]
  },
  {
   "cell_type": "markdown",
   "metadata": {},
   "source": [
    "## 12. 1列目をcol1.txtに，2列目をcol2.txtに保存\n",
    "各行の1列目だけを抜き出したものをcol1.txtに, 2列目だけを抜き出したものをcol2.txtとしてファイルに保存せよ. 確認にはcutコマンドを用いよ."
   ]
  },
  {
   "cell_type": "markdown",
   "metadata": {},
   "source": [
    "**Python:**"
   ]
  },
  {
   "cell_type": "code",
   "execution_count": null,
   "metadata": {},
   "outputs": [],
   "source": [
    "with open(\"popular-names.txt\", \"r\") as f, open(\"col1.txt\", \"w\") as fc1, open(\"col2.txt\", \"w\") as fc2:\n",
    "    for line in f:\n",
    "        columns = line.split('\\t')\n",
    "        fc1.write(columns[0] + '\\n')\n",
    "        fc2.write(columns[1] + '\\n') "
   ]
  },
  {
   "cell_type": "markdown",
   "metadata": {},
   "source": [
    "**UNIX:**"
   ]
  },
  {
   "cell_type": "code",
   "execution_count": 25,
   "metadata": {},
   "outputs": [
    {
     "name": "stdout",
     "output_type": "stream",
     "text": [
      "[Check]: col1.txt\n",
      "Python UNIX\n",
      "\n",
      "Mary Mary\n",
      "Anna Anna\n",
      "Emma Emma\n",
      "Elizabeth Elizabeth\n",
      "Minnie Minnie\n",
      "Margaret Margaret\n",
      "Ida Ida\n"
     ]
    }
   ],
   "source": [
    "!cut -f 1 popular-names.txt | awk 'BEGIN {print \"[Check]: col1.txt\\nPython UNIX\\n\"} {getline second < \"col1.txt\"; print $0, second}' 2>/dev/null | head -n 10"
   ]
  },
  {
   "cell_type": "code",
   "execution_count": 24,
   "metadata": {},
   "outputs": [
    {
     "name": "stdout",
     "output_type": "stream",
     "text": [
      "[Check]: col2.txt\n",
      "Python UNIX\n",
      "\n",
      "F F\n",
      "F F\n",
      "F F\n",
      "F F\n",
      "F F\n",
      "F F\n",
      "F F\n"
     ]
    }
   ],
   "source": [
    "!cut -f 2 popular-names.txt | awk 'BEGIN {print \"[Check]: col2.txt\\nPython UNIX\\n\"} {getline second < \"col2.txt\"; print $0, second}' 2>/dev/null | head -n 10"
   ]
  },
  {
   "cell_type": "code",
   "execution_count": 140,
   "metadata": {},
   "outputs": [],
   "source": [
    "!cut -f 1 popular-names.txt > tmp.txt && diff col1.txt tmp.txt && rm tmp.txt\n",
    "!cut -f 2 popular-names.txt > tmp.txt && diff col2.txt tmp.txt && rm tmp.txt"
   ]
  },
  {
   "cell_type": "markdown",
   "metadata": {},
   "source": [
    "## 13. col1.txtとcol2.txtをマージ\n",
    "12で作ったcol1.txtとcol2.txtを結合し, 元のファイルの1列目と2列目をタブ区切りで並べたテキストファイルを作成せよ, 確認にはpasteコマンドを用いよ."
   ]
  },
  {
   "cell_type": "markdown",
   "metadata": {},
   "source": [
    "**Python:**"
   ]
  },
  {
   "cell_type": "code",
   "execution_count": 23,
   "metadata": {},
   "outputs": [],
   "source": [
    "with open(\"col1.txt\", \"r\") as fc1, open(\"col2.txt\", \"r\") as fc2, open(\"col1-2.txt\", \"w\") as fc12:\n",
    "    for line1, line2 in zip(fc1, fc2):\n",
    "        fc12.write(line1.strip() + '\\t' + line2.strip() + '\\n')"
   ]
  },
  {
   "cell_type": "markdown",
   "metadata": {},
   "source": [
    "**UNIX:**"
   ]
  },
  {
   "cell_type": "code",
   "execution_count": 138,
   "metadata": {},
   "outputs": [
    {
     "name": "stdout",
     "output_type": "stream",
     "text": [
      "[Check]: col1-2.txt\n",
      "Python UNIX\n",
      "\n",
      "Mary\tF Mary\tF\n",
      "Anna\tF Anna\tF\n",
      "Emma\tF Emma\tF\n",
      "Elizabeth\tF Elizabeth\tF\n",
      "Minnie\tF Minnie\tF\n",
      "Margaret\tF Margaret\tF\n",
      "Ida\tF Ida\tF\n"
     ]
    }
   ],
   "source": [
    "!paste col1.txt col2.txt | awk 'BEGIN {print \"[Check]: col1-2.txt\\nPython UNIX\\n\"} {getline second < \"col1-2.txt\"; print $0, second}' | head -n 10"
   ]
  },
  {
   "cell_type": "code",
   "execution_count": 135,
   "metadata": {},
   "outputs": [],
   "source": [
    "!paste col1.txt col2.txt > tmp.txt && diff col1-2.txt tmp.txt && rm tmp.txt"
   ]
  },
  {
   "cell_type": "markdown",
   "metadata": {},
   "source": [
    "## 14. 先頭からN行を出力\n",
    "自然数Nをコマンドライン引数などの手段で受け取り, 入力のうち先頭のN行だけを表示せよ. 確認にはheadコマンドを用いよ."
   ]
  },
  {
   "cell_type": "markdown",
   "metadata": {},
   "source": [
    "**Python:**"
   ]
  },
  {
   "cell_type": "code",
   "execution_count": 42,
   "metadata": {},
   "outputs": [
    {
     "name": "stdout",
     "output_type": "stream",
     "text": [
      "Mary\tF\t7065\t1880\n",
      "Anna\tF\t2604\t1880\n",
      "Emma\tF\t2003\t1880\n",
      "Elizabeth\tF\t1939\t1880\n"
     ]
    }
   ],
   "source": [
    "def nhlines(N, file):\n",
    "    with open(file, \"r\") as f:\n",
    "        lines = f.readlines()\n",
    "        for line in lines[:N]:\n",
    "            print(line.strip())\n",
    "\n",
    "nhlines(4, \"popular-names.txt\")\n"
   ]
  },
  {
   "cell_type": "markdown",
   "metadata": {},
   "source": [
    "**UNIX:**"
   ]
  },
  {
   "cell_type": "code",
   "execution_count": 38,
   "metadata": {},
   "outputs": [
    {
     "name": "stdout",
     "output_type": "stream",
     "text": [
      "Mary\tF\t7065\t1880\n",
      "Anna\tF\t2604\t1880\n",
      "Emma\tF\t2003\t1880\n",
      "Elizabeth\tF\t1939\t1880\n"
     ]
    }
   ],
   "source": [
    "!head -n 4 popular-names.txt"
   ]
  },
  {
   "cell_type": "markdown",
   "metadata": {},
   "source": [
    "## 15. 末尾のN行を出力\n",
    "自然数Nをコマンドライン引数などの手段で受け取り, 入力のうち末尾のN行だけを表示せよ. 確認にはtailコマンドを用いよ."
   ]
  },
  {
   "cell_type": "markdown",
   "metadata": {},
   "source": [
    "**Python:**"
   ]
  },
  {
   "cell_type": "code",
   "execution_count": 43,
   "metadata": {},
   "outputs": [
    {
     "name": "stdout",
     "output_type": "stream",
     "text": [
      "Elijah\tM\t12886\t2018\n",
      "Lucas\tM\t12585\t2018\n",
      "Mason\tM\t12435\t2018\n",
      "Logan\tM\t12352\t2018\n"
     ]
    }
   ],
   "source": [
    "def ntlines(N, file):\n",
    "    with open(file, \"r\") as f:\n",
    "        lines = f.readlines()\n",
    "        for line in lines[-N:]:\n",
    "            print(line.strip())\n",
    "\n",
    "ntlines(4, \"popular-names.txt\")\n"
   ]
  },
  {
   "cell_type": "markdown",
   "metadata": {},
   "source": [
    "**UNIX:**"
   ]
  },
  {
   "cell_type": "code",
   "execution_count": 44,
   "metadata": {},
   "outputs": [
    {
     "name": "stdout",
     "output_type": "stream",
     "text": [
      "Elijah\tM\t12886\t2018\n",
      "Lucas\tM\t12585\t2018\n",
      "Mason\tM\t12435\t2018\n",
      "Logan\tM\t12352\t2018\n"
     ]
    }
   ],
   "source": [
    "!tail -n 4 popular-names.txt"
   ]
  },
  {
   "cell_type": "markdown",
   "metadata": {},
   "source": [
    "## 16. ファイルをN分割する\n",
    "自然数Nをコマンドライン引数などの手段で受け取り, 入力のファイルを行単位でN分割せよ. 同様の処理をsplitコマンドで実現せよ."
   ]
  },
  {
   "cell_type": "markdown",
   "metadata": {},
   "source": [
    "**Python:**"
   ]
  },
  {
   "cell_type": "code",
   "execution_count": 112,
   "metadata": {},
   "outputs": [],
   "source": [
    "def nsplit(N, input_file):\n",
    "    with open(input_file, \"r\") as f:\n",
    "        lines = f.readlines()\n",
    "    \n",
    "    total_lines = len(lines)\n",
    "    split_size = total_lines // N\n",
    "    rem = total_lines % N\n",
    "    \n",
    "    start = 0\n",
    "    base, ext = input_file.rsplit('.', 1)\n",
    "    \n",
    "    for i in range(N):\n",
    "        end = start + split_size + (1 if i < rem else 0)\n",
    "        output_file = f\"{base}-{i:02}.{ext}\"\n",
    "        with open(output_file, \"w\") as out_file:\n",
    "            out_file.write(\"\".join(lines[start:end]))\n",
    "        start = end\n",
    "\n",
    "nsplit(3, \"popular-names.txt\")"
   ]
  },
  {
   "cell_type": "markdown",
   "metadata": {},
   "source": [
    "**UNIX:**"
   ]
  },
  {
   "cell_type": "markdown",
   "metadata": {},
   "source": [
    "`nsplit.sh`:\n",
    "\n",
    "```bash\n",
    "#!/bin/bash\n",
    "\n",
    "N=$1\n",
    "input_file=$2\n",
    "output_file_prefix=$(basename \"$input_file\" .txt)\"-split-\"\n",
    "\n",
    "total_lines=$(wc -l < \"$input_file\")\n",
    "\n",
    "split_size=$((total_lines / N))\n",
    "rem=$((total_lines % N))\n",
    "\n",
    "if [ \"$rem\" -eq 0 ]; then\n",
    "    split -n \"$N\" -d --additional-suffix=.txt \"$input_file\" \"$output_file_prefix\"\n",
    "else\n",
    "    split -l \"$((split_size + 1))\" -d --additional-suffix=.txt \"$input_file\" \"$output_file_prefix\"\n",
    "fi\n",
    "```"
   ]
  },
  {
   "cell_type": "code",
   "execution_count": 127,
   "metadata": {},
   "outputs": [],
   "source": [
    "!chmod +x nsplit.sh\n",
    "!./nsplit.sh 3 popular-names.txt"
   ]
  },
  {
   "cell_type": "code",
   "execution_count": 117,
   "metadata": {},
   "outputs": [
    {
     "name": "stdout",
     "output_type": "stream",
     "text": [
      "[Check]:\n",
      "popular-names-00.txt popular-names-split-00.txt\n",
      "\n",
      "Mary\tF\t7065\t1880 Mary\tF\t7065\t1880\n",
      "Anna\tF\t2604\t1880 Anna\tF\t2604\t1880\n",
      "Emma\tF\t2003\t1880 Emma\tF\t2003\t1880\n",
      "Elizabeth\tF\t1939\t1880 Elizabeth\tF\t1939\t1880\n",
      "Minnie\tF\t1746\t1880 Minnie\tF\t1746\t1880\n",
      "Margaret\tF\t1578\t1880 Margaret\tF\t1578\t1880\n",
      "Ida\tF\t1472\t1880 Ida\tF\t1472\t1880\n"
     ]
    }
   ],
   "source": [
    "!awk 'BEGIN {print \"[Check]:\\npopular-names-00.txt popular-names-split-00.txt\\n\"} {getline second < \"popular-names-split-00.txt\"; print $0, second}' popular-names-00.txt 2>/dev/null | head -n 10"
   ]
  },
  {
   "cell_type": "code",
   "execution_count": 118,
   "metadata": {},
   "outputs": [
    {
     "name": "stdout",
     "output_type": "stream",
     "text": [
      "[Check]:\n",
      "popular-names-01.txt popular-names-split-01.txt\n",
      "\n",
      "Virginia\tF\t16162\t1926 Virginia\tF\t16162\t1926\n",
      "Mildred\tF\t13551\t1926 Mildred\tF\t13551\t1926\n",
      "Frances\tF\t13355\t1926 Frances\tF\t13355\t1926\n",
      "Robert\tM\t61130\t1926 Robert\tM\t61130\t1926\n",
      "John\tM\t56110\t1926 John\tM\t56110\t1926\n",
      "James\tM\t53209\t1926 James\tM\t53209\t1926\n",
      "William\tM\t51920\t1926 William\tM\t51920\t1926\n"
     ]
    }
   ],
   "source": [
    "!awk 'BEGIN {print \"[Check]:\\npopular-names-01.txt popular-names-split-01.txt\\n\"} {getline second < \"popular-names-split-01.txt\"; print $0, second}' popular-names-01.txt 2>/dev/null | head -n 10"
   ]
  },
  {
   "cell_type": "code",
   "execution_count": 120,
   "metadata": {},
   "outputs": [
    {
     "name": "stdout",
     "output_type": "stream",
     "text": [
      "[Check]:\n",
      "popular-names-02.txt popular-names-split-02.txt\n",
      "\n",
      "John\tM\t43181\t1972 John\tM\t43181\t1972\n",
      "Robert\tM\t43037\t1972 Robert\tM\t43037\t1972\n",
      "Jason\tM\t37446\t1972 Jason\tM\t37446\t1972\n",
      "Brian\tM\t36322\t1972 Brian\tM\t36322\t1972\n",
      "William\tM\t30529\t1972 William\tM\t30529\t1972\n",
      "Matthew\tM\t22943\t1972 Matthew\tM\t22943\t1972\n",
      "Jennifer\tF\t62447\t1973 Jennifer\tF\t62447\t1973\n"
     ]
    }
   ],
   "source": [
    "!awk 'BEGIN {print \"[Check]:\\npopular-names-02.txt popular-names-split-02.txt\\n\"} {getline second < \"popular-names-split-02.txt\"; print $0, second}' popular-names-02.txt 2>/dev/null | head -n 10"
   ]
  },
  {
   "cell_type": "code",
   "execution_count": 130,
   "metadata": {},
   "outputs": [],
   "source": [
    "!diff popular-names-00.txt popular-names-split-00.txt\n",
    "!diff popular-names-01.txt popular-names-split-01.txt\n",
    "!diff popular-names-02.txt popular-names-split-02.txt"
   ]
  },
  {
   "cell_type": "markdown",
   "metadata": {},
   "source": [
    "```{note}\n",
    "`split` で ファイルを $N$ 分割する際, `-n` で分割数 $N$ を与えるが, 上手く分割されないことがある. これは, `-n N` の場合, バイト単位で分割されるためであると考えられる. 行単位で分割したい場合は, `-n r/N`, `-n l/N` のようにする必要がある. `r/N` はラウンドロビン方式により $N$ 分割, `l/N` は行単位でバイト数に基づき $N$ 分割する. デフォルト (`-n N` のみ) ではバイト単位で分割される.\n",
    "\n",
    "**References:**\n",
    "- [https://www.man7.org/linux/man-pages/man1/split.1.html](https://www.man7.org/linux/man-pages/man1/split.1.html)\n",
    "- [https://github.com/coreutils/coreutils/blob/master/src/split.c](https://github.com/coreutils/coreutils/blob/master/src/split.c)\n",
    "\n",
    "```"
   ]
  },
  {
   "cell_type": "markdown",
   "metadata": {},
   "source": [
    "## 17. １列目の文字列の異なり\n",
    "1列目の文字列の種類 (異なる文字列の集合) を求めよ. 確認にはcut, sort, uniqコマンドを用いよ."
   ]
  },
  {
   "cell_type": "markdown",
   "metadata": {},
   "source": [
    "**Python:**"
   ]
  },
  {
   "cell_type": "code",
   "execution_count": 143,
   "metadata": {},
   "outputs": [
    {
     "name": "stdout",
     "output_type": "stream",
     "text": [
      "Abigail\n",
      "Aiden\n",
      "Alexander\n",
      "Alexis\n",
      "Alice\n",
      "Amanda\n",
      "Amelia\n",
      "Amy\n",
      "Andrew\n",
      "Angela\n"
     ]
    }
   ],
   "source": [
    "unique_vals = set()\n",
    "with open(\"popular-names.txt\", \"r\") as f:\n",
    "    for line in f:\n",
    "        unique_vals.add(line.split()[0])\n",
    "\n",
    "print(\"\\n\".join(sorted(unique_vals)[:10]))"
   ]
  },
  {
   "cell_type": "markdown",
   "metadata": {},
   "source": [
    "**UNIX:**"
   ]
  },
  {
   "cell_type": "code",
   "execution_count": 10,
   "metadata": {},
   "outputs": [
    {
     "name": "stdout",
     "output_type": "stream",
     "text": [
      "Abigail\n",
      "Aiden\n",
      "Alexander\n",
      "Alexis\n",
      "Alice\n",
      "Amanda\n",
      "Amelia\n",
      "Amy\n",
      "Andrew\n",
      "Angela\n"
     ]
    }
   ],
   "source": [
    "!cut -f 1 popular-names.txt | sort | uniq 2>/dev/null | head -n 10"
   ]
  },
  {
   "cell_type": "markdown",
   "metadata": {},
   "source": [
    "## 18. 各行を3コラム目の数値の降順にソート\n",
    "各行を3コラム目の数値の逆順で整列せよ (注意: 各行の内容は変更せずに並び替えよ).確認にはsortコマンドを用いよ (この問題はコマンドで実行した時の結果と合わなくてもよい)."
   ]
  },
  {
   "cell_type": "markdown",
   "metadata": {},
   "source": [
    "**Python:**"
   ]
  },
  {
   "cell_type": "code",
   "execution_count": 147,
   "metadata": {},
   "outputs": [
    {
     "name": "stdout",
     "output_type": "stream",
     "text": [
      "Linda\tF\t99689\t1947\n",
      "Linda\tF\t96211\t1948\n",
      "James\tM\t94757\t1947\n",
      "Michael\tM\t92704\t1957\n",
      "Robert\tM\t91640\t1947\n",
      "Linda\tF\t91016\t1949\n",
      "Michael\tM\t90656\t1956\n",
      "Michael\tM\t90517\t1958\n",
      "James\tM\t88584\t1948\n",
      "Michael\tM\t88528\t1954\n",
      "\n"
     ]
    }
   ],
   "source": [
    "with open(\"popular-names.txt\", \"r\") as f:\n",
    "    lines = f.readlines()\n",
    "\n",
    "print(\"\".join(sorted(lines, key=lambda x: float(x.split()[2]), reverse=True)[:10]))"
   ]
  },
  {
   "cell_type": "markdown",
   "metadata": {},
   "source": [
    "**UNIX:**"
   ]
  },
  {
   "cell_type": "code",
   "execution_count": 7,
   "metadata": {},
   "outputs": [
    {
     "name": "stdout",
     "output_type": "stream",
     "text": [
      "Linda\tF\t99689\t1947\n",
      "Linda\tF\t96211\t1948\n",
      "James\tM\t94757\t1947\n",
      "Michael\tM\t92704\t1957\n",
      "Robert\tM\t91640\t1947\n",
      "Linda\tF\t91016\t1949\n",
      "Michael\tM\t90656\t1956\n",
      "Michael\tM\t90517\t1958\n",
      "James\tM\t88584\t1948\n",
      "Michael\tM\t88528\t1954\n"
     ]
    }
   ],
   "source": [
    "!sort -k 3,3 -nr popular-names.txt 2>/dev/null | head -n 10"
   ]
  },
  {
   "cell_type": "markdown",
   "metadata": {},
   "source": [
    "## 19. 各行の1コラム目の文字列の出現頻度を求め，出現頻度の高い順に並べる\n",
    "各行の1列目の文字列の出現頻度を求め, その高い順に並べて表示せよ. 確認にはcut, uniq, sortコマンドを用いよ."
   ]
  },
  {
   "cell_type": "markdown",
   "metadata": {},
   "source": [
    "**Python:**"
   ]
  },
  {
   "cell_type": "code",
   "execution_count": 152,
   "metadata": {},
   "outputs": [
    {
     "name": "stdout",
     "output_type": "stream",
     "text": [
      "  118 James\n",
      "  111 William\n",
      "  108 John\n",
      "  108 Robert\n",
      "   92 Mary\n",
      "   75 Charles\n",
      "   74 Michael\n",
      "   73 Elizabeth\n",
      "   70 Joseph\n",
      "   60 Margaret\n"
     ]
    }
   ],
   "source": [
    "from collections import Counter\n",
    "from itertools import islice\n",
    "\n",
    "with open(\"popular-names.txt\", \"r\") as f:\n",
    "    lines = f.readlines()\n",
    "    \n",
    "col1_vals = [line.split()[0] for line in lines]\n",
    "freq = Counter(col1_vals)\n",
    "\n",
    "for word, count in islice(freq.most_common(), 10):\n",
    "    print(f\"{count:>5} {word}\")"
   ]
  },
  {
   "cell_type": "markdown",
   "metadata": {},
   "source": [
    "**UNIX:**"
   ]
  },
  {
   "cell_type": "code",
   "execution_count": 8,
   "metadata": {},
   "outputs": [
    {
     "name": "stdout",
     "output_type": "stream",
     "text": [
      "    118 James\n",
      "    111 William\n",
      "    108 Robert\n",
      "    108 John\n",
      "     92 Mary\n",
      "     75 Charles\n",
      "     74 Michael\n",
      "     73 Elizabeth\n",
      "     70 Joseph\n",
      "     60 Margaret\n"
     ]
    }
   ],
   "source": [
    "!cut -f 1 popular-names.txt | sort | uniq -c | sort -r 2>/dev/null | head -n 10"
   ]
  },
  {
   "cell_type": "markdown",
   "metadata": {},
   "source": [
    "```{tip}\n",
    "- [wc](https://man7.org/linux/man-pages/man1/wc.1.html)\n",
    "- [sed](https://man7.org/linux/man-pages/man1/sed.1.html)\n",
    "- [tr](https://man7.org/linux/man-pages/man1/tr.1.html)\n",
    "- [expand](https://man7.org/linux/man-pages/man1/expand.1.html)\n",
    "- [cut](https://www.man7.org/linux/man-pages/man1/cut.1.html)\n",
    "- [paste](https://man7.org/linux/man-pages/man1/paste.1.html)\n",
    "- [head](https://man7.org/linux/man-pages/man1/head.1.html)\n",
    "- [tail](https://man7.org/linux/man-pages/man1/tail.1.html)\n",
    "- [split](https://man7.org/linux/man-pages/man1/split.1.html)\n",
    "- [sort](https://www.man7.org/linux/man-pages/man1/sort.1.html)\n",
    "- [uniq](https://man7.org/linux/man-pages/man1/uniq.1.html)\n",
    "```"
   ]
  }
 ],
 "metadata": {
  "kernelspec": {
   "display_name": "nlp100-env",
   "language": "python",
   "name": "python3"
  },
  "language_info": {
   "codemirror_mode": {
    "name": "ipython",
    "version": 3
   },
   "file_extension": ".py",
   "mimetype": "text/x-python",
   "name": "python",
   "nbconvert_exporter": "python",
   "pygments_lexer": "ipython3",
   "version": "3.10.12"
  }
 },
 "nbformat": 4,
 "nbformat_minor": 4
}
